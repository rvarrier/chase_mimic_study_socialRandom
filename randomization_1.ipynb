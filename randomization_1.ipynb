{
 "cells": [
  {
   "cell_type": "code",
   "execution_count": 1,
   "source": [
    "import pandas as pd\n",
    "import numpy as np\n",
    "import random"
   ],
   "outputs": [],
   "metadata": {}
  },
  {
   "cell_type": "code",
   "execution_count": 2,
   "source": [
    "pwd"
   ],
   "outputs": [
    {
     "output_type": "execute_result",
     "data": {
      "text/plain": [
       "'/Volumes/rc/home/z/f0053cz/public_html/chase_mimic_study'"
      ]
     },
     "metadata": {},
     "execution_count": 2
    }
   ],
   "metadata": {}
  },
  {
   "cell_type": "code",
   "execution_count": 3,
   "source": [
    "# total_vids = 168\n",
    "# 6 subt * 2 start pos * 2 pred colors = 24\n",
    "# * 3 variants or recollapses = 72\n",
    "# * 2 conditions (chase/mimic) = 96\n",
    "# + 1 wander * 2 start pos * 2 pred color * 2 variants * 2 conditions simulated = 16\n",
    "# = 112 vids"
   ],
   "outputs": [],
   "metadata": {}
  },
  {
   "cell_type": "markdown",
   "source": [
    "- Let's organize these as chase first (0-72) , mimic next (72-144), wander last (144-168)\n",
    "- We have 8 vids at each subtlety level for chase, mimic and wander, need to pick 6"
   ],
   "metadata": {}
  },
  {
   "cell_type": "code",
   "execution_count": 23,
   "source": [
    "agent_subtlety = np.repeat([0,30,60,90,120,150,0,30,60,90,120,150,0,30,60,90,120,150,0,30,60,90,120,150,180,180,180,180],6)\n",
    "# 0*6, 30*6 ..\n",
    "# this organization is because that's how mimic 1-72 is: black first, then grey etc.\n",
    "# chase: black 36, grey:36, - within each 36: 6 subtleties * 2 startpos * 3 copies\n",
    "# e.g. 0-2: subt 0, black, pred left, 3-5: subt 0, black, pred right,\n",
    "#      6-8: subt 30, black, pred left etc.\n",
    "# mimic: black 36, grey:36,\n",
    "# wander oe 180: black 12, grey 12\n",
    "agent_color = []\n",
    "agent_color.extend(np.tile(np.repeat(['Bl','Gr'],36),2)) # bl*36, gr*36, bl*36...#np.tile(np.repeat(['Bl','Gr'],6),12))\n",
    "agent_color.extend(np.repeat(['Bl','Gr'],12)) # wander\n",
    "agent_startpos =[]\n",
    "agent_startpos.extend(np.tile(np.repeat(['L','R'],3),2*6*2)) # LLLRRRLLLRRR...\n",
    "agent_startpos.extend(np.repeat(['L','R','L','R'],6)) #L*12, R*12\n",
    "motiv_type = []\n",
    "motiv_type.extend(np.repeat(['Chase','Mimic',],72)) # chase *72,  mimic*72, wander*24\n",
    "motiv_type.extend(np.repeat('Wander',24))\n",
    "vid_iter_nr = list(np.tile(['v0','v1','v2'],4*12)) # v0, v1, v2 * 48\n",
    "vid_iter_nr.extend(np.tile(['v0','v1','v2','v3','v4','v5'],4)) # v0, v1..v6 * 4\n",
    "\n",
    "len(agent_subtlety),len(agent_color),len(agent_startpos), len(vid_iter_nr) #len(agent_type),"
   ],
   "outputs": [
    {
     "output_type": "execute_result",
     "data": {
      "text/plain": [
       "(168, 168, 168, 168)"
      ]
     },
     "metadata": {},
     "execution_count": 23
    }
   ],
   "metadata": {}
  },
  {
   "cell_type": "code",
   "execution_count": 24,
   "source": [
    "agent_color_name = {'Gr':'Grey','Bl':'Black'}\n",
    "pos = {'L':'350','R':'850'}\n",
    "vidNames = []"
   ],
   "outputs": [],
   "metadata": {}
  },
  {
   "cell_type": "code",
   "execution_count": 25,
   "source": [
    "#  chase\n",
    "for i in range(72): # 6 levels, 2 colors, 2 posns, 3copies = 72\n",
    "    if motiv_type[i] != \"Chase\":\n",
    "        raise Exception('Wrong order')\n",
    "    if vid_iter_nr[i] == 'v0':\n",
    "        vidnumsuff = ''\n",
    "    else:\n",
    "        vidnumsuff = '_var' + str(int(vid_iter_nr[i][1])-1)\n",
    "    # chase_pred_subt0_Colorg_Posx350, \n",
    "    # chase__pred_subt0_Colorb_Posx350_2\n",
    "    pref ='chase_'\n",
    "    flname = pref + 'pred_subt' + str(agent_subtlety[i]) + '_' + agent_color_name[agent_color[i]] + '_Posx_' + \\\n",
    "            pos[agent_startpos[i]] + vidnumsuff + '.webm'\n",
    "    vidNames.append(flname)  \n",
    "vidNames[:6], len(vidNames)"
   ],
   "outputs": [
    {
     "output_type": "execute_result",
     "data": {
      "text/plain": [
       "(['chase_pred_subt0_Black_Posx_350.webm',\n",
       "  'chase_pred_subt0_Black_Posx_350_var0.webm',\n",
       "  'chase_pred_subt0_Black_Posx_350_var1.webm',\n",
       "  'chase_pred_subt0_Black_Posx_850.webm',\n",
       "  'chase_pred_subt0_Black_Posx_850_var0.webm',\n",
       "  'chase_pred_subt0_Black_Posx_850_var1.webm'],\n",
       " 72)"
      ]
     },
     "metadata": {},
     "execution_count": 25
    }
   ],
   "metadata": {}
  },
  {
   "cell_type": "code",
   "execution_count": 26,
   "source": [
    "# get params from filenames\n",
    "from os import walk\n",
    "mimic_files_loc = '/Users/f0053cz/Documents/GitHub/chase_mimic_study/jspsych_code/main_animations/mimic/webm'\n",
    "#'/Users/f0053cz/Documents/GitHub/chase_mimic_study/good_vids/mimic/webm'\n",
    "filenames = os.listdir(mimic_files_loc); # list all files\n",
    "filenames = [i for i in filenames if i[-4:] == 'webm']\n",
    "flnames_ind = [i[:-5].split('_')[-1] for i in filenames]\n",
    "\n",
    "flnames_ind2 = [] # remove \"ed\" suffix in vid names and convert to ind (so that the suffix can be used to sort vids later)\n",
    "for i in flnames_ind:\n",
    "    if 'ed' in i:\n",
    "        ind = i[:-2]\n",
    "    else:\n",
    "        ind = i\n",
    "    flnames_ind2.append(int(ind) )\n",
    "#' '.join(flnames_ind) , ' '.join([str(i) for i in flnames_ind2])#, existing_mimic_files\n",
    "filenames_sort = [i for _,i in sorted(zip(flnames_ind2,filenames))]\n",
    "print(filenames_sort[:10])\n",
    "dup_inds = filenames_sort[35:37]\n",
    "if  (dup_inds[1] == 'mimic_flipped_pred_subt150_Black_Posx_850_InvisPreyLocInd_36.webm') & \\\n",
    "    (dup_inds[0] == 'mimic_flipped_pred_subt0_Grey_Posx_350_InvisPreyLocInd_36.webm'): # & \\\n",
    "    #(dup_inds[0] != 'mimic_flipped_pred_subt0_Grey_Posx_350_InvisPreyLocInd_36.webm') & \\\n",
    "    #(dup_inds[1] == 'mimic_flipped_pred_subt150_Black_Posx_850_InvisPreyLocInd_36.webm'):\n",
    "    #print('in')\n",
    "    filenames_sort[35], filenames_sort[36] = filenames_sort[36], filenames_sort[35]\n",
    "vidNames.extend(filenames_sort)\n",
    "len(vidNames)"
   ],
   "outputs": [
    {
     "output_type": "stream",
     "name": "stdout",
     "text": [
      "['mimic_flipped_pred_subt0_Black_Posx_350_InvisPreyLocInd_1.webm', 'mimic_flipped_pred_subt0_Black_Posx_350_InvisPreyLocInd_2ed.webm', 'mimic_flipped_pred_subt0_Black_Posx_350_InvisPreyLocInd_3ed.webm', 'mimic_flipped_pred_subt0_Black_Posx_850_InvisPreyLocInd_4.webm', 'mimic_flipped_pred_subt0_Black_Posx_850_InvisPreyLocInd_5.webm', 'mimic_flipped_pred_subt0_Black_Posx_850_InvisPreyLocInd_6.webm', 'mimic_flipped_pred_subt30_Black_Posx_350_InvisPreyLocInd_7.webm', 'mimic_flipped_pred_subt30_Black_Posx_350_InvisPreyLocInd_8.webm', 'mimic_flipped_pred_subt30_Black_Posx_350_InvisPreyLocInd_9.webm', 'mimic_flipped_pred_subt30_Black_Posx_850_InvisPreyLocInd_10.webm']\n"
     ]
    },
    {
     "output_type": "execute_result",
     "data": {
      "text/plain": [
       "144"
      ]
     },
     "metadata": {},
     "execution_count": 26
    }
   ],
   "metadata": {}
  },
  {
   "cell_type": "code",
   "execution_count": 27,
   "source": [
    "# does the video order actually correspond to the expected order (sanity check)\n",
    "right_mimic_order = np.zeros((72,))\n",
    "for i in range(72):\n",
    "    overall_ind = i + 72\n",
    "    flname_split = filenames_sort[i][:-5].split('_')\n",
    "    subt_i, color_i, posx_i = int(flname_split[3][4:]), flname_split[4][:2], flname_split[6]\n",
    "    if posx_i == '350':\n",
    "        posx_i='L'\n",
    "    elif posx_i == '850':\n",
    "        posx_i='R'\n",
    "    #print(i,filenames_sort[i],  subt_i, color_i, posx_i, 'req params:',agent_subtlety[overall_ind],agent_color[overall_ind],agent_startpos[overall_ind] )\n",
    "    if (agent_subtlety[overall_ind]==subt_i) & (agent_color[overall_ind] == color_i) & (agent_startpos[overall_ind] == posx_i) & \\\n",
    "        (motiv_type[overall_ind] == \"Mimic\"):\n",
    "        right_mimic_order[i] = 1\n",
    "    else:\n",
    "        right_mimic_order[i] = -1\n",
    "        print(i)\n",
    "        raise Exception('Wrong order!!')\n",
    "print('wrong order in these inds:', np.where(right_mimic_order==0))"
   ],
   "outputs": [
    {
     "output_type": "stream",
     "name": "stdout",
     "text": [
      "wrong order in these inds: (array([], dtype=int64),)\n"
     ]
    }
   ],
   "metadata": {}
  },
  {
   "cell_type": "code",
   "execution_count": 28,
   "source": [
    "motiv_type[overall_ind]"
   ],
   "outputs": [
    {
     "output_type": "execute_result",
     "data": {
      "text/plain": [
       "'Mimic'"
      ]
     },
     "metadata": {},
     "execution_count": 28
    }
   ],
   "metadata": {}
  },
  {
   "cell_type": "code",
   "execution_count": 29,
   "source": [
    "np.unique(vid_iter_nr)"
   ],
   "outputs": [
    {
     "output_type": "execute_result",
     "data": {
      "text/plain": [
       "array(['v0', 'v1', 'v2', 'v3', 'v4', 'v5'], dtype='<U2')"
      ]
     },
     "metadata": {},
     "execution_count": 29
    }
   ],
   "metadata": {}
  },
  {
   "cell_type": "code",
   "execution_count": 30,
   "source": [
    "# wander\n",
    "for i in np.arange(144,168):\n",
    "    if (motiv_type[i] != \"Wander\"):\n",
    "         raise Exception('Wrong order!')\n",
    "    pref ='wander_'\n",
    "    '''if vid_iter_nr[i] == 'v0':\n",
    "        vidnumsuff = ''\n",
    "    else:\n",
    "        vidnumsuff = '_' + str(vid_iter_nr[i][1])'''\n",
    "    vidnumsuff  = '_var' + str(vid_iter_nr[i][1])\n",
    "    # chase_pred_subt0_Colorg_Posx350, \n",
    "    # chase__pred_subt0_Colorb_Posx350_2\n",
    "    if agent_color[i] == 'Bl':\n",
    "        colorName = 'Black'\n",
    "    elif agent_color[i] == 'Gr':\n",
    "        colorName = \"Grey\"\n",
    "        \n",
    "    flname = pref + 'pred_' + colorName+ '_Posx_' + pos[agent_startpos[i]] + vidnumsuff + '.webm'\n",
    "    vidNames.append(flname)\n",
    "print(vidNames[143:145],len(vidNames))"
   ],
   "outputs": [
    {
     "output_type": "stream",
     "name": "stdout",
     "text": [
      "['mimic_flipped_pred_subt150_Grey_Posx_850_InvisPreyLocInd_71.webm', 'wander_pred_Black_Posx_350_var0.webm'] 168\n"
     ]
    }
   ],
   "metadata": {}
  },
  {
   "cell_type": "code",
   "execution_count": 31,
   "source": [
    "len(vidNames)"
   ],
   "outputs": [
    {
     "output_type": "execute_result",
     "data": {
      "text/plain": [
       "168"
      ]
     },
     "metadata": {},
     "execution_count": 31
    }
   ],
   "metadata": {}
  },
  {
   "cell_type": "code",
   "execution_count": 32,
   "source": [
    "df.iloc[-24:,:]"
   ],
   "outputs": [
    {
     "output_type": "execute_result",
     "data": {
      "text/html": [
       "<div>\n",
       "<style scoped>\n",
       "    .dataframe tbody tr th:only-of-type {\n",
       "        vertical-align: middle;\n",
       "    }\n",
       "\n",
       "    .dataframe tbody tr th {\n",
       "        vertical-align: top;\n",
       "    }\n",
       "\n",
       "    .dataframe thead th {\n",
       "        text-align: right;\n",
       "    }\n",
       "</style>\n",
       "<table border=\"1\" class=\"dataframe\">\n",
       "  <thead>\n",
       "    <tr style=\"text-align: right;\">\n",
       "      <th></th>\n",
       "      <th>Vid_nr</th>\n",
       "      <th>Subtlety</th>\n",
       "      <th>Color</th>\n",
       "      <th>StartPos</th>\n",
       "      <th>Motivator</th>\n",
       "      <th>Vid_names</th>\n",
       "      <th>Iter_nr</th>\n",
       "      <th>ID</th>\n",
       "    </tr>\n",
       "  </thead>\n",
       "  <tbody>\n",
       "    <tr>\n",
       "      <th>144</th>\n",
       "      <td>144</td>\n",
       "      <td>180</td>\n",
       "      <td>Bl</td>\n",
       "      <td>L</td>\n",
       "      <td>Wander</td>\n",
       "      <td>wander_pred_Black_Posx_350_var0.webm</td>\n",
       "      <td>v0</td>\n",
       "      <td>180_Bl_L_Wander_v0</td>\n",
       "    </tr>\n",
       "    <tr>\n",
       "      <th>145</th>\n",
       "      <td>145</td>\n",
       "      <td>180</td>\n",
       "      <td>Bl</td>\n",
       "      <td>L</td>\n",
       "      <td>Wander</td>\n",
       "      <td>wander_pred_Black_Posx_350_var1.webm</td>\n",
       "      <td>v1</td>\n",
       "      <td>180_Bl_L_Wander_v1</td>\n",
       "    </tr>\n",
       "    <tr>\n",
       "      <th>146</th>\n",
       "      <td>146</td>\n",
       "      <td>180</td>\n",
       "      <td>Bl</td>\n",
       "      <td>L</td>\n",
       "      <td>Wander</td>\n",
       "      <td>wander_pred_Black_Posx_350_var2.webm</td>\n",
       "      <td>v2</td>\n",
       "      <td>180_Bl_L_Wander_v2</td>\n",
       "    </tr>\n",
       "    <tr>\n",
       "      <th>147</th>\n",
       "      <td>147</td>\n",
       "      <td>180</td>\n",
       "      <td>Bl</td>\n",
       "      <td>L</td>\n",
       "      <td>Wander</td>\n",
       "      <td>wander_pred_Black_Posx_350_var3.webm</td>\n",
       "      <td>v3</td>\n",
       "      <td>180_Bl_L_Wander_v3</td>\n",
       "    </tr>\n",
       "    <tr>\n",
       "      <th>148</th>\n",
       "      <td>148</td>\n",
       "      <td>180</td>\n",
       "      <td>Bl</td>\n",
       "      <td>L</td>\n",
       "      <td>Wander</td>\n",
       "      <td>wander_pred_Black_Posx_350_var4.webm</td>\n",
       "      <td>v4</td>\n",
       "      <td>180_Bl_L_Wander_v4</td>\n",
       "    </tr>\n",
       "    <tr>\n",
       "      <th>149</th>\n",
       "      <td>149</td>\n",
       "      <td>180</td>\n",
       "      <td>Bl</td>\n",
       "      <td>L</td>\n",
       "      <td>Wander</td>\n",
       "      <td>wander_pred_Black_Posx_350_var5.webm</td>\n",
       "      <td>v5</td>\n",
       "      <td>180_Bl_L_Wander_v5</td>\n",
       "    </tr>\n",
       "    <tr>\n",
       "      <th>150</th>\n",
       "      <td>150</td>\n",
       "      <td>180</td>\n",
       "      <td>Bl</td>\n",
       "      <td>L</td>\n",
       "      <td>Wander</td>\n",
       "      <td>wander_pred_Black_Posx_350_var0.webm</td>\n",
       "      <td>v0</td>\n",
       "      <td>180_Bl_L_Wander_v0</td>\n",
       "    </tr>\n",
       "    <tr>\n",
       "      <th>151</th>\n",
       "      <td>151</td>\n",
       "      <td>180</td>\n",
       "      <td>Bl</td>\n",
       "      <td>L</td>\n",
       "      <td>Wander</td>\n",
       "      <td>wander_pred_Black_Posx_350_var1.webm</td>\n",
       "      <td>v1</td>\n",
       "      <td>180_Bl_L_Wander_v1</td>\n",
       "    </tr>\n",
       "    <tr>\n",
       "      <th>152</th>\n",
       "      <td>152</td>\n",
       "      <td>180</td>\n",
       "      <td>Bl</td>\n",
       "      <td>L</td>\n",
       "      <td>Wander</td>\n",
       "      <td>wander_pred_Black_Posx_350_var2.webm</td>\n",
       "      <td>v2</td>\n",
       "      <td>180_Bl_L_Wander_v2</td>\n",
       "    </tr>\n",
       "    <tr>\n",
       "      <th>153</th>\n",
       "      <td>153</td>\n",
       "      <td>180</td>\n",
       "      <td>Bl</td>\n",
       "      <td>L</td>\n",
       "      <td>Wander</td>\n",
       "      <td>wander_pred_Black_Posx_350_var3.webm</td>\n",
       "      <td>v3</td>\n",
       "      <td>180_Bl_L_Wander_v3</td>\n",
       "    </tr>\n",
       "    <tr>\n",
       "      <th>154</th>\n",
       "      <td>154</td>\n",
       "      <td>180</td>\n",
       "      <td>Bl</td>\n",
       "      <td>L</td>\n",
       "      <td>Wander</td>\n",
       "      <td>wander_pred_Black_Posx_350_var4.webm</td>\n",
       "      <td>v4</td>\n",
       "      <td>180_Bl_L_Wander_v4</td>\n",
       "    </tr>\n",
       "    <tr>\n",
       "      <th>155</th>\n",
       "      <td>155</td>\n",
       "      <td>180</td>\n",
       "      <td>Bl</td>\n",
       "      <td>L</td>\n",
       "      <td>Wander</td>\n",
       "      <td>wander_pred_Black_Posx_350_var5.webm</td>\n",
       "      <td>v5</td>\n",
       "      <td>180_Bl_L_Wander_v5</td>\n",
       "    </tr>\n",
       "    <tr>\n",
       "      <th>156</th>\n",
       "      <td>156</td>\n",
       "      <td>180</td>\n",
       "      <td>Gr</td>\n",
       "      <td>R</td>\n",
       "      <td>Wander</td>\n",
       "      <td>wander_pred_Grey_Posx_850_var0.webm</td>\n",
       "      <td>v0</td>\n",
       "      <td>180_Gr_R_Wander_v0</td>\n",
       "    </tr>\n",
       "    <tr>\n",
       "      <th>157</th>\n",
       "      <td>157</td>\n",
       "      <td>180</td>\n",
       "      <td>Gr</td>\n",
       "      <td>R</td>\n",
       "      <td>Wander</td>\n",
       "      <td>wander_pred_Grey_Posx_850_var1.webm</td>\n",
       "      <td>v1</td>\n",
       "      <td>180_Gr_R_Wander_v1</td>\n",
       "    </tr>\n",
       "    <tr>\n",
       "      <th>158</th>\n",
       "      <td>158</td>\n",
       "      <td>180</td>\n",
       "      <td>Gr</td>\n",
       "      <td>R</td>\n",
       "      <td>Wander</td>\n",
       "      <td>wander_pred_Grey_Posx_850_var2.webm</td>\n",
       "      <td>v2</td>\n",
       "      <td>180_Gr_R_Wander_v2</td>\n",
       "    </tr>\n",
       "    <tr>\n",
       "      <th>159</th>\n",
       "      <td>159</td>\n",
       "      <td>180</td>\n",
       "      <td>Gr</td>\n",
       "      <td>R</td>\n",
       "      <td>Wander</td>\n",
       "      <td>wander_pred_Grey_Posx_850_var3.webm</td>\n",
       "      <td>v3</td>\n",
       "      <td>180_Gr_R_Wander_v3</td>\n",
       "    </tr>\n",
       "    <tr>\n",
       "      <th>160</th>\n",
       "      <td>160</td>\n",
       "      <td>180</td>\n",
       "      <td>Gr</td>\n",
       "      <td>R</td>\n",
       "      <td>Wander</td>\n",
       "      <td>wander_pred_Grey_Posx_850_var4.webm</td>\n",
       "      <td>v4</td>\n",
       "      <td>180_Gr_R_Wander_v4</td>\n",
       "    </tr>\n",
       "    <tr>\n",
       "      <th>161</th>\n",
       "      <td>161</td>\n",
       "      <td>180</td>\n",
       "      <td>Gr</td>\n",
       "      <td>R</td>\n",
       "      <td>Wander</td>\n",
       "      <td>wander_pred_Grey_Posx_850_var5.webm</td>\n",
       "      <td>v5</td>\n",
       "      <td>180_Gr_R_Wander_v5</td>\n",
       "    </tr>\n",
       "    <tr>\n",
       "      <th>162</th>\n",
       "      <td>162</td>\n",
       "      <td>180</td>\n",
       "      <td>Gr</td>\n",
       "      <td>R</td>\n",
       "      <td>Wander</td>\n",
       "      <td>wander_pred_Grey_Posx_850_var0.webm</td>\n",
       "      <td>v0</td>\n",
       "      <td>180_Gr_R_Wander_v0</td>\n",
       "    </tr>\n",
       "    <tr>\n",
       "      <th>163</th>\n",
       "      <td>163</td>\n",
       "      <td>180</td>\n",
       "      <td>Gr</td>\n",
       "      <td>R</td>\n",
       "      <td>Wander</td>\n",
       "      <td>wander_pred_Grey_Posx_850_var1.webm</td>\n",
       "      <td>v1</td>\n",
       "      <td>180_Gr_R_Wander_v1</td>\n",
       "    </tr>\n",
       "    <tr>\n",
       "      <th>164</th>\n",
       "      <td>164</td>\n",
       "      <td>180</td>\n",
       "      <td>Gr</td>\n",
       "      <td>R</td>\n",
       "      <td>Wander</td>\n",
       "      <td>wander_pred_Grey_Posx_850_var2.webm</td>\n",
       "      <td>v2</td>\n",
       "      <td>180_Gr_R_Wander_v2</td>\n",
       "    </tr>\n",
       "    <tr>\n",
       "      <th>165</th>\n",
       "      <td>165</td>\n",
       "      <td>180</td>\n",
       "      <td>Gr</td>\n",
       "      <td>R</td>\n",
       "      <td>Wander</td>\n",
       "      <td>wander_pred_Grey_Posx_850_var3.webm</td>\n",
       "      <td>v3</td>\n",
       "      <td>180_Gr_R_Wander_v3</td>\n",
       "    </tr>\n",
       "    <tr>\n",
       "      <th>166</th>\n",
       "      <td>166</td>\n",
       "      <td>180</td>\n",
       "      <td>Gr</td>\n",
       "      <td>R</td>\n",
       "      <td>Wander</td>\n",
       "      <td>wander_pred_Grey_Posx_850_var4.webm</td>\n",
       "      <td>v4</td>\n",
       "      <td>180_Gr_R_Wander_v4</td>\n",
       "    </tr>\n",
       "    <tr>\n",
       "      <th>167</th>\n",
       "      <td>167</td>\n",
       "      <td>180</td>\n",
       "      <td>Gr</td>\n",
       "      <td>R</td>\n",
       "      <td>Wander</td>\n",
       "      <td>wander_pred_Grey_Posx_850_var5.webm</td>\n",
       "      <td>v5</td>\n",
       "      <td>180_Gr_R_Wander_v5</td>\n",
       "    </tr>\n",
       "  </tbody>\n",
       "</table>\n",
       "</div>"
      ],
      "text/plain": [
       "     Vid_nr  Subtlety Color StartPos Motivator  \\\n",
       "144     144       180    Bl        L    Wander   \n",
       "145     145       180    Bl        L    Wander   \n",
       "146     146       180    Bl        L    Wander   \n",
       "147     147       180    Bl        L    Wander   \n",
       "148     148       180    Bl        L    Wander   \n",
       "149     149       180    Bl        L    Wander   \n",
       "150     150       180    Bl        L    Wander   \n",
       "151     151       180    Bl        L    Wander   \n",
       "152     152       180    Bl        L    Wander   \n",
       "153     153       180    Bl        L    Wander   \n",
       "154     154       180    Bl        L    Wander   \n",
       "155     155       180    Bl        L    Wander   \n",
       "156     156       180    Gr        R    Wander   \n",
       "157     157       180    Gr        R    Wander   \n",
       "158     158       180    Gr        R    Wander   \n",
       "159     159       180    Gr        R    Wander   \n",
       "160     160       180    Gr        R    Wander   \n",
       "161     161       180    Gr        R    Wander   \n",
       "162     162       180    Gr        R    Wander   \n",
       "163     163       180    Gr        R    Wander   \n",
       "164     164       180    Gr        R    Wander   \n",
       "165     165       180    Gr        R    Wander   \n",
       "166     166       180    Gr        R    Wander   \n",
       "167     167       180    Gr        R    Wander   \n",
       "\n",
       "                                Vid_names Iter_nr                  ID  \n",
       "144  wander_pred_Black_Posx_350_var0.webm      v0  180_Bl_L_Wander_v0  \n",
       "145  wander_pred_Black_Posx_350_var1.webm      v1  180_Bl_L_Wander_v1  \n",
       "146  wander_pred_Black_Posx_350_var2.webm      v2  180_Bl_L_Wander_v2  \n",
       "147  wander_pred_Black_Posx_350_var3.webm      v3  180_Bl_L_Wander_v3  \n",
       "148  wander_pred_Black_Posx_350_var4.webm      v4  180_Bl_L_Wander_v4  \n",
       "149  wander_pred_Black_Posx_350_var5.webm      v5  180_Bl_L_Wander_v5  \n",
       "150  wander_pred_Black_Posx_350_var0.webm      v0  180_Bl_L_Wander_v0  \n",
       "151  wander_pred_Black_Posx_350_var1.webm      v1  180_Bl_L_Wander_v1  \n",
       "152  wander_pred_Black_Posx_350_var2.webm      v2  180_Bl_L_Wander_v2  \n",
       "153  wander_pred_Black_Posx_350_var3.webm      v3  180_Bl_L_Wander_v3  \n",
       "154  wander_pred_Black_Posx_350_var4.webm      v4  180_Bl_L_Wander_v4  \n",
       "155  wander_pred_Black_Posx_350_var5.webm      v5  180_Bl_L_Wander_v5  \n",
       "156   wander_pred_Grey_Posx_850_var0.webm      v0  180_Gr_R_Wander_v0  \n",
       "157   wander_pred_Grey_Posx_850_var1.webm      v1  180_Gr_R_Wander_v1  \n",
       "158   wander_pred_Grey_Posx_850_var2.webm      v2  180_Gr_R_Wander_v2  \n",
       "159   wander_pred_Grey_Posx_850_var3.webm      v3  180_Gr_R_Wander_v3  \n",
       "160   wander_pred_Grey_Posx_850_var4.webm      v4  180_Gr_R_Wander_v4  \n",
       "161   wander_pred_Grey_Posx_850_var5.webm      v5  180_Gr_R_Wander_v5  \n",
       "162   wander_pred_Grey_Posx_850_var0.webm      v0  180_Gr_R_Wander_v0  \n",
       "163   wander_pred_Grey_Posx_850_var1.webm      v1  180_Gr_R_Wander_v1  \n",
       "164   wander_pred_Grey_Posx_850_var2.webm      v2  180_Gr_R_Wander_v2  \n",
       "165   wander_pred_Grey_Posx_850_var3.webm      v3  180_Gr_R_Wander_v3  \n",
       "166   wander_pred_Grey_Posx_850_var4.webm      v4  180_Gr_R_Wander_v4  \n",
       "167   wander_pred_Grey_Posx_850_var5.webm      v5  180_Gr_R_Wander_v5  "
      ]
     },
     "metadata": {},
     "execution_count": 32
    }
   ],
   "metadata": {}
  },
  {
   "cell_type": "code",
   "execution_count": 33,
   "source": [
    "df =  pd.DataFrame({'Vid_nr':np.arange(168),\n",
    "    'Subtlety':agent_subtlety,\n",
    "    'Color':agent_color,\n",
    "    'StartPos': agent_startpos,\n",
    "    'Motivator': motiv_type,\n",
    "    'Vid_names': vidNames,\n",
    "    'Iter_nr':vid_iter_nr})\n",
    "\n",
    "ID = []\n",
    "for i, rows in df.iterrows():\n",
    "    id = '_'.join([str(rows['Subtlety']),str(rows['Color']),str(rows['StartPos']),str(rows['Motivator']), str(rows['Iter_nr'])])\n",
    "    ID.append(id)\n",
    "#df['ID'] = str(df['Vid_nr']) + str(df['Subtlety']) + str(df['Color']) + str(df['Motivator'])\n",
    "df['ID'] = ID\n",
    "df.head(10)"
   ],
   "outputs": [
    {
     "output_type": "execute_result",
     "data": {
      "text/html": [
       "<div>\n",
       "<style scoped>\n",
       "    .dataframe tbody tr th:only-of-type {\n",
       "        vertical-align: middle;\n",
       "    }\n",
       "\n",
       "    .dataframe tbody tr th {\n",
       "        vertical-align: top;\n",
       "    }\n",
       "\n",
       "    .dataframe thead th {\n",
       "        text-align: right;\n",
       "    }\n",
       "</style>\n",
       "<table border=\"1\" class=\"dataframe\">\n",
       "  <thead>\n",
       "    <tr style=\"text-align: right;\">\n",
       "      <th></th>\n",
       "      <th>Vid_nr</th>\n",
       "      <th>Subtlety</th>\n",
       "      <th>Color</th>\n",
       "      <th>StartPos</th>\n",
       "      <th>Motivator</th>\n",
       "      <th>Vid_names</th>\n",
       "      <th>Iter_nr</th>\n",
       "      <th>ID</th>\n",
       "    </tr>\n",
       "  </thead>\n",
       "  <tbody>\n",
       "    <tr>\n",
       "      <th>0</th>\n",
       "      <td>0</td>\n",
       "      <td>0</td>\n",
       "      <td>Bl</td>\n",
       "      <td>L</td>\n",
       "      <td>Chase</td>\n",
       "      <td>chase_pred_subt0_Black_Posx_350.webm</td>\n",
       "      <td>v0</td>\n",
       "      <td>0_Bl_L_Chase_v0</td>\n",
       "    </tr>\n",
       "    <tr>\n",
       "      <th>1</th>\n",
       "      <td>1</td>\n",
       "      <td>0</td>\n",
       "      <td>Bl</td>\n",
       "      <td>L</td>\n",
       "      <td>Chase</td>\n",
       "      <td>chase_pred_subt0_Black_Posx_350_var0.webm</td>\n",
       "      <td>v1</td>\n",
       "      <td>0_Bl_L_Chase_v1</td>\n",
       "    </tr>\n",
       "    <tr>\n",
       "      <th>2</th>\n",
       "      <td>2</td>\n",
       "      <td>0</td>\n",
       "      <td>Bl</td>\n",
       "      <td>L</td>\n",
       "      <td>Chase</td>\n",
       "      <td>chase_pred_subt0_Black_Posx_350_var1.webm</td>\n",
       "      <td>v2</td>\n",
       "      <td>0_Bl_L_Chase_v2</td>\n",
       "    </tr>\n",
       "    <tr>\n",
       "      <th>3</th>\n",
       "      <td>3</td>\n",
       "      <td>0</td>\n",
       "      <td>Bl</td>\n",
       "      <td>R</td>\n",
       "      <td>Chase</td>\n",
       "      <td>chase_pred_subt0_Black_Posx_850.webm</td>\n",
       "      <td>v0</td>\n",
       "      <td>0_Bl_R_Chase_v0</td>\n",
       "    </tr>\n",
       "    <tr>\n",
       "      <th>4</th>\n",
       "      <td>4</td>\n",
       "      <td>0</td>\n",
       "      <td>Bl</td>\n",
       "      <td>R</td>\n",
       "      <td>Chase</td>\n",
       "      <td>chase_pred_subt0_Black_Posx_850_var0.webm</td>\n",
       "      <td>v1</td>\n",
       "      <td>0_Bl_R_Chase_v1</td>\n",
       "    </tr>\n",
       "    <tr>\n",
       "      <th>5</th>\n",
       "      <td>5</td>\n",
       "      <td>0</td>\n",
       "      <td>Bl</td>\n",
       "      <td>R</td>\n",
       "      <td>Chase</td>\n",
       "      <td>chase_pred_subt0_Black_Posx_850_var1.webm</td>\n",
       "      <td>v2</td>\n",
       "      <td>0_Bl_R_Chase_v2</td>\n",
       "    </tr>\n",
       "    <tr>\n",
       "      <th>6</th>\n",
       "      <td>6</td>\n",
       "      <td>30</td>\n",
       "      <td>Bl</td>\n",
       "      <td>L</td>\n",
       "      <td>Chase</td>\n",
       "      <td>chase_pred_subt30_Black_Posx_350.webm</td>\n",
       "      <td>v0</td>\n",
       "      <td>30_Bl_L_Chase_v0</td>\n",
       "    </tr>\n",
       "    <tr>\n",
       "      <th>7</th>\n",
       "      <td>7</td>\n",
       "      <td>30</td>\n",
       "      <td>Bl</td>\n",
       "      <td>L</td>\n",
       "      <td>Chase</td>\n",
       "      <td>chase_pred_subt30_Black_Posx_350_var0.webm</td>\n",
       "      <td>v1</td>\n",
       "      <td>30_Bl_L_Chase_v1</td>\n",
       "    </tr>\n",
       "    <tr>\n",
       "      <th>8</th>\n",
       "      <td>8</td>\n",
       "      <td>30</td>\n",
       "      <td>Bl</td>\n",
       "      <td>L</td>\n",
       "      <td>Chase</td>\n",
       "      <td>chase_pred_subt30_Black_Posx_350_var1.webm</td>\n",
       "      <td>v2</td>\n",
       "      <td>30_Bl_L_Chase_v2</td>\n",
       "    </tr>\n",
       "    <tr>\n",
       "      <th>9</th>\n",
       "      <td>9</td>\n",
       "      <td>30</td>\n",
       "      <td>Bl</td>\n",
       "      <td>R</td>\n",
       "      <td>Chase</td>\n",
       "      <td>chase_pred_subt30_Black_Posx_850.webm</td>\n",
       "      <td>v0</td>\n",
       "      <td>30_Bl_R_Chase_v0</td>\n",
       "    </tr>\n",
       "  </tbody>\n",
       "</table>\n",
       "</div>"
      ],
      "text/plain": [
       "   Vid_nr  Subtlety Color StartPos Motivator  \\\n",
       "0       0         0    Bl        L     Chase   \n",
       "1       1         0    Bl        L     Chase   \n",
       "2       2         0    Bl        L     Chase   \n",
       "3       3         0    Bl        R     Chase   \n",
       "4       4         0    Bl        R     Chase   \n",
       "5       5         0    Bl        R     Chase   \n",
       "6       6        30    Bl        L     Chase   \n",
       "7       7        30    Bl        L     Chase   \n",
       "8       8        30    Bl        L     Chase   \n",
       "9       9        30    Bl        R     Chase   \n",
       "\n",
       "                                    Vid_names Iter_nr                ID  \n",
       "0        chase_pred_subt0_Black_Posx_350.webm      v0   0_Bl_L_Chase_v0  \n",
       "1   chase_pred_subt0_Black_Posx_350_var0.webm      v1   0_Bl_L_Chase_v1  \n",
       "2   chase_pred_subt0_Black_Posx_350_var1.webm      v2   0_Bl_L_Chase_v2  \n",
       "3        chase_pred_subt0_Black_Posx_850.webm      v0   0_Bl_R_Chase_v0  \n",
       "4   chase_pred_subt0_Black_Posx_850_var0.webm      v1   0_Bl_R_Chase_v1  \n",
       "5   chase_pred_subt0_Black_Posx_850_var1.webm      v2   0_Bl_R_Chase_v2  \n",
       "6       chase_pred_subt30_Black_Posx_350.webm      v0  30_Bl_L_Chase_v0  \n",
       "7  chase_pred_subt30_Black_Posx_350_var0.webm      v1  30_Bl_L_Chase_v1  \n",
       "8  chase_pred_subt30_Black_Posx_350_var1.webm      v2  30_Bl_L_Chase_v2  \n",
       "9       chase_pred_subt30_Black_Posx_850.webm      v0  30_Bl_R_Chase_v0  "
      ]
     },
     "metadata": {},
     "execution_count": 33
    }
   ],
   "metadata": {}
  },
  {
   "cell_type": "code",
   "execution_count": 34,
   "source": [
    "import os\n",
    "os.getcwd()"
   ],
   "outputs": [
    {
     "output_type": "execute_result",
     "data": {
      "text/plain": [
       "'/Volumes/rc/home/z/f0053cz/public_html/chase_mimic_study'"
      ]
     },
     "metadata": {},
     "execution_count": 34
    }
   ],
   "metadata": {}
  },
  {
   "cell_type": "code",
   "execution_count": 35,
   "source": [
    "import csv\n",
    "with open('./expt_material/randomization/vidNames.csv', 'w') as myfile:\n",
    "    wr = csv.writer(myfile, quoting=csv.QUOTE_ALL)\n",
    "    wr.writerow(list(df['Vid_names'].values))"
   ],
   "outputs": [],
   "metadata": {}
  },
  {
   "cell_type": "code",
   "execution_count": 36,
   "source": [
    "import json\n",
    "data = {}\n",
    "data['fileName'] = list(df['Vid_names'].values)\n",
    "json_data = json.dumps(data)\n",
    "print(json_data[:10])"
   ],
   "outputs": [
    {
     "output_type": "stream",
     "name": "stdout",
     "text": [
      "{\"fileName\n"
     ]
    }
   ],
   "metadata": {}
  },
  {
   "cell_type": "code",
   "execution_count": 37,
   "source": [
    "cd 'chase_mimic_study'"
   ],
   "outputs": [
    {
     "output_type": "stream",
     "name": "stdout",
     "text": [
      "[Errno 2] No such file or directory: 'chase_mimic_study'\n",
      "/Volumes/rc/home/z/f0053cz/public_html/chase_mimic_study\n"
     ]
    }
   ],
   "metadata": {}
  },
  {
   "cell_type": "code",
   "execution_count": 38,
   "source": [
    "with open('./expt_material/randomization/vidNames.json', 'w') as outfile:\n",
    "    json.dump(json_data, outfile)\n",
    "\n",
    "with open('./expt_material/randomization/vidNames.txt', 'w') as outfile:\n",
    "    outfile.write(json.dumps(data))\n",
    "    #json.dump(json_data, outfile)\n",
    "\n",
    "with open('./expt_material/randomization/vidNames.js', 'w') as outfile:\n",
    "    outfile.write(json.dumps(data))\n",
    "    #json.dump(json_data, outfile)"
   ],
   "outputs": [],
   "metadata": {}
  },
  {
   "cell_type": "code",
   "execution_count": 39,
   "source": [
    "df.to_csv('./expt_material/randomization/stimInfo.csv')\n",
    "df.to_json('./expt_material/randomization/stimInfo_df.json')"
   ],
   "outputs": [],
   "metadata": {}
  },
  {
   "cell_type": "code",
   "execution_count": 40,
   "source": [
    "df_dict = df.to_dict(orient='list')\n",
    "json_data = json.dumps(df_dict)\n",
    "print(json_data)\n",
    "\n",
    "with open('./expt_material/randomization/stimInfo.json', 'w') as outfile:\n",
    "    json.dump(json_data, outfile)\n",
    "\n",
    "with open('./expt_material/randomization/stimInfo.txt', 'w') as outfile:\n",
    "     outfile.write(json.dumps(df_dict))"
   ],
   "outputs": [
    {
     "output_type": "stream",
     "name": "stdout",
     "text": [
      "{\"Vid_nr\": [0, 1, 2, 3, 4, 5, 6, 7, 8, 9, 10, 11, 12, 13, 14, 15, 16, 17, 18, 19, 20, 21, 22, 23, 24, 25, 26, 27, 28, 29, 30, 31, 32, 33, 34, 35, 36, 37, 38, 39, 40, 41, 42, 43, 44, 45, 46, 47, 48, 49, 50, 51, 52, 53, 54, 55, 56, 57, 58, 59, 60, 61, 62, 63, 64, 65, 66, 67, 68, 69, 70, 71, 72, 73, 74, 75, 76, 77, 78, 79, 80, 81, 82, 83, 84, 85, 86, 87, 88, 89, 90, 91, 92, 93, 94, 95, 96, 97, 98, 99, 100, 101, 102, 103, 104, 105, 106, 107, 108, 109, 110, 111, 112, 113, 114, 115, 116, 117, 118, 119, 120, 121, 122, 123, 124, 125, 126, 127, 128, 129, 130, 131, 132, 133, 134, 135, 136, 137, 138, 139, 140, 141, 142, 143, 144, 145, 146, 147, 148, 149, 150, 151, 152, 153, 154, 155, 156, 157, 158, 159, 160, 161, 162, 163, 164, 165, 166, 167], \"Subtlety\": [0, 0, 0, 0, 0, 0, 30, 30, 30, 30, 30, 30, 60, 60, 60, 60, 60, 60, 90, 90, 90, 90, 90, 90, 120, 120, 120, 120, 120, 120, 150, 150, 150, 150, 150, 150, 0, 0, 0, 0, 0, 0, 30, 30, 30, 30, 30, 30, 60, 60, 60, 60, 60, 60, 90, 90, 90, 90, 90, 90, 120, 120, 120, 120, 120, 120, 150, 150, 150, 150, 150, 150, 0, 0, 0, 0, 0, 0, 30, 30, 30, 30, 30, 30, 60, 60, 60, 60, 60, 60, 90, 90, 90, 90, 90, 90, 120, 120, 120, 120, 120, 120, 150, 150, 150, 150, 150, 150, 0, 0, 0, 0, 0, 0, 30, 30, 30, 30, 30, 30, 60, 60, 60, 60, 60, 60, 90, 90, 90, 90, 90, 90, 120, 120, 120, 120, 120, 120, 150, 150, 150, 150, 150, 150, 180, 180, 180, 180, 180, 180, 180, 180, 180, 180, 180, 180, 180, 180, 180, 180, 180, 180, 180, 180, 180, 180, 180, 180], \"Color\": [\"Bl\", \"Bl\", \"Bl\", \"Bl\", \"Bl\", \"Bl\", \"Bl\", \"Bl\", \"Bl\", \"Bl\", \"Bl\", \"Bl\", \"Bl\", \"Bl\", \"Bl\", \"Bl\", \"Bl\", \"Bl\", \"Bl\", \"Bl\", \"Bl\", \"Bl\", \"Bl\", \"Bl\", \"Bl\", \"Bl\", \"Bl\", \"Bl\", \"Bl\", \"Bl\", \"Bl\", \"Bl\", \"Bl\", \"Bl\", \"Bl\", \"Bl\", \"Gr\", \"Gr\", \"Gr\", \"Gr\", \"Gr\", \"Gr\", \"Gr\", \"Gr\", \"Gr\", \"Gr\", \"Gr\", \"Gr\", \"Gr\", \"Gr\", \"Gr\", \"Gr\", \"Gr\", \"Gr\", \"Gr\", \"Gr\", \"Gr\", \"Gr\", \"Gr\", \"Gr\", \"Gr\", \"Gr\", \"Gr\", \"Gr\", \"Gr\", \"Gr\", \"Gr\", \"Gr\", \"Gr\", \"Gr\", \"Gr\", \"Gr\", \"Bl\", \"Bl\", \"Bl\", \"Bl\", \"Bl\", \"Bl\", \"Bl\", \"Bl\", \"Bl\", \"Bl\", \"Bl\", \"Bl\", \"Bl\", \"Bl\", \"Bl\", \"Bl\", \"Bl\", \"Bl\", \"Bl\", \"Bl\", \"Bl\", \"Bl\", \"Bl\", \"Bl\", \"Bl\", \"Bl\", \"Bl\", \"Bl\", \"Bl\", \"Bl\", \"Bl\", \"Bl\", \"Bl\", \"Bl\", \"Bl\", \"Bl\", \"Gr\", \"Gr\", \"Gr\", \"Gr\", \"Gr\", \"Gr\", \"Gr\", \"Gr\", \"Gr\", \"Gr\", \"Gr\", \"Gr\", \"Gr\", \"Gr\", \"Gr\", \"Gr\", \"Gr\", \"Gr\", \"Gr\", \"Gr\", \"Gr\", \"Gr\", \"Gr\", \"Gr\", \"Gr\", \"Gr\", \"Gr\", \"Gr\", \"Gr\", \"Gr\", \"Gr\", \"Gr\", \"Gr\", \"Gr\", \"Gr\", \"Gr\", \"Bl\", \"Bl\", \"Bl\", \"Bl\", \"Bl\", \"Bl\", \"Bl\", \"Bl\", \"Bl\", \"Bl\", \"Bl\", \"Bl\", \"Gr\", \"Gr\", \"Gr\", \"Gr\", \"Gr\", \"Gr\", \"Gr\", \"Gr\", \"Gr\", \"Gr\", \"Gr\", \"Gr\"], \"StartPos\": [\"L\", \"L\", \"L\", \"R\", \"R\", \"R\", \"L\", \"L\", \"L\", \"R\", \"R\", \"R\", \"L\", \"L\", \"L\", \"R\", \"R\", \"R\", \"L\", \"L\", \"L\", \"R\", \"R\", \"R\", \"L\", \"L\", \"L\", \"R\", \"R\", \"R\", \"L\", \"L\", \"L\", \"R\", \"R\", \"R\", \"L\", \"L\", \"L\", \"R\", \"R\", \"R\", \"L\", \"L\", \"L\", \"R\", \"R\", \"R\", \"L\", \"L\", \"L\", \"R\", \"R\", \"R\", \"L\", \"L\", \"L\", \"R\", \"R\", \"R\", \"L\", \"L\", \"L\", \"R\", \"R\", \"R\", \"L\", \"L\", \"L\", \"R\", \"R\", \"R\", \"L\", \"L\", \"L\", \"R\", \"R\", \"R\", \"L\", \"L\", \"L\", \"R\", \"R\", \"R\", \"L\", \"L\", \"L\", \"R\", \"R\", \"R\", \"L\", \"L\", \"L\", \"R\", \"R\", \"R\", \"L\", \"L\", \"L\", \"R\", \"R\", \"R\", \"L\", \"L\", \"L\", \"R\", \"R\", \"R\", \"L\", \"L\", \"L\", \"R\", \"R\", \"R\", \"L\", \"L\", \"L\", \"R\", \"R\", \"R\", \"L\", \"L\", \"L\", \"R\", \"R\", \"R\", \"L\", \"L\", \"L\", \"R\", \"R\", \"R\", \"L\", \"L\", \"L\", \"R\", \"R\", \"R\", \"L\", \"L\", \"L\", \"R\", \"R\", \"R\", \"L\", \"L\", \"L\", \"L\", \"L\", \"L\", \"R\", \"R\", \"R\", \"R\", \"R\", \"R\", \"L\", \"L\", \"L\", \"L\", \"L\", \"L\", \"R\", \"R\", \"R\", \"R\", \"R\", \"R\"], \"Motivator\": [\"Chase\", \"Chase\", \"Chase\", \"Chase\", \"Chase\", \"Chase\", \"Chase\", \"Chase\", \"Chase\", \"Chase\", \"Chase\", \"Chase\", \"Chase\", \"Chase\", \"Chase\", \"Chase\", \"Chase\", \"Chase\", \"Chase\", \"Chase\", \"Chase\", \"Chase\", \"Chase\", \"Chase\", \"Chase\", \"Chase\", \"Chase\", \"Chase\", \"Chase\", \"Chase\", \"Chase\", \"Chase\", \"Chase\", \"Chase\", \"Chase\", \"Chase\", \"Chase\", \"Chase\", \"Chase\", \"Chase\", \"Chase\", \"Chase\", \"Chase\", \"Chase\", \"Chase\", \"Chase\", \"Chase\", \"Chase\", \"Chase\", \"Chase\", \"Chase\", \"Chase\", \"Chase\", \"Chase\", \"Chase\", \"Chase\", \"Chase\", \"Chase\", \"Chase\", \"Chase\", \"Chase\", \"Chase\", \"Chase\", \"Chase\", \"Chase\", \"Chase\", \"Chase\", \"Chase\", \"Chase\", \"Chase\", \"Chase\", \"Chase\", \"Mimic\", \"Mimic\", \"Mimic\", \"Mimic\", \"Mimic\", \"Mimic\", \"Mimic\", \"Mimic\", \"Mimic\", \"Mimic\", \"Mimic\", \"Mimic\", \"Mimic\", \"Mimic\", \"Mimic\", \"Mimic\", \"Mimic\", \"Mimic\", \"Mimic\", \"Mimic\", \"Mimic\", \"Mimic\", \"Mimic\", \"Mimic\", \"Mimic\", \"Mimic\", \"Mimic\", \"Mimic\", \"Mimic\", \"Mimic\", \"Mimic\", \"Mimic\", \"Mimic\", \"Mimic\", \"Mimic\", \"Mimic\", \"Mimic\", \"Mimic\", \"Mimic\", \"Mimic\", \"Mimic\", \"Mimic\", \"Mimic\", \"Mimic\", \"Mimic\", \"Mimic\", \"Mimic\", \"Mimic\", \"Mimic\", \"Mimic\", \"Mimic\", \"Mimic\", \"Mimic\", \"Mimic\", \"Mimic\", \"Mimic\", \"Mimic\", \"Mimic\", \"Mimic\", \"Mimic\", \"Mimic\", \"Mimic\", \"Mimic\", \"Mimic\", \"Mimic\", \"Mimic\", \"Mimic\", \"Mimic\", \"Mimic\", \"Mimic\", \"Mimic\", \"Mimic\", \"Wander\", \"Wander\", \"Wander\", \"Wander\", \"Wander\", \"Wander\", \"Wander\", \"Wander\", \"Wander\", \"Wander\", \"Wander\", \"Wander\", \"Wander\", \"Wander\", \"Wander\", \"Wander\", \"Wander\", \"Wander\", \"Wander\", \"Wander\", \"Wander\", \"Wander\", \"Wander\", \"Wander\"], \"Vid_names\": [\"chase_pred_subt0_Black_Posx_350.webm\", \"chase_pred_subt0_Black_Posx_350_var0.webm\", \"chase_pred_subt0_Black_Posx_350_var1.webm\", \"chase_pred_subt0_Black_Posx_850.webm\", \"chase_pred_subt0_Black_Posx_850_var0.webm\", \"chase_pred_subt0_Black_Posx_850_var1.webm\", \"chase_pred_subt30_Black_Posx_350.webm\", \"chase_pred_subt30_Black_Posx_350_var0.webm\", \"chase_pred_subt30_Black_Posx_350_var1.webm\", \"chase_pred_subt30_Black_Posx_850.webm\", \"chase_pred_subt30_Black_Posx_850_var0.webm\", \"chase_pred_subt30_Black_Posx_850_var1.webm\", \"chase_pred_subt60_Black_Posx_350.webm\", \"chase_pred_subt60_Black_Posx_350_var0.webm\", \"chase_pred_subt60_Black_Posx_350_var1.webm\", \"chase_pred_subt60_Black_Posx_850.webm\", \"chase_pred_subt60_Black_Posx_850_var0.webm\", \"chase_pred_subt60_Black_Posx_850_var1.webm\", \"chase_pred_subt90_Black_Posx_350.webm\", \"chase_pred_subt90_Black_Posx_350_var0.webm\", \"chase_pred_subt90_Black_Posx_350_var1.webm\", \"chase_pred_subt90_Black_Posx_850.webm\", \"chase_pred_subt90_Black_Posx_850_var0.webm\", \"chase_pred_subt90_Black_Posx_850_var1.webm\", \"chase_pred_subt120_Black_Posx_350.webm\", \"chase_pred_subt120_Black_Posx_350_var0.webm\", \"chase_pred_subt120_Black_Posx_350_var1.webm\", \"chase_pred_subt120_Black_Posx_850.webm\", \"chase_pred_subt120_Black_Posx_850_var0.webm\", \"chase_pred_subt120_Black_Posx_850_var1.webm\", \"chase_pred_subt150_Black_Posx_350.webm\", \"chase_pred_subt150_Black_Posx_350_var0.webm\", \"chase_pred_subt150_Black_Posx_350_var1.webm\", \"chase_pred_subt150_Black_Posx_850.webm\", \"chase_pred_subt150_Black_Posx_850_var0.webm\", \"chase_pred_subt150_Black_Posx_850_var1.webm\", \"chase_pred_subt0_Grey_Posx_350.webm\", \"chase_pred_subt0_Grey_Posx_350_var0.webm\", \"chase_pred_subt0_Grey_Posx_350_var1.webm\", \"chase_pred_subt0_Grey_Posx_850.webm\", \"chase_pred_subt0_Grey_Posx_850_var0.webm\", \"chase_pred_subt0_Grey_Posx_850_var1.webm\", \"chase_pred_subt30_Grey_Posx_350.webm\", \"chase_pred_subt30_Grey_Posx_350_var0.webm\", \"chase_pred_subt30_Grey_Posx_350_var1.webm\", \"chase_pred_subt30_Grey_Posx_850.webm\", \"chase_pred_subt30_Grey_Posx_850_var0.webm\", \"chase_pred_subt30_Grey_Posx_850_var1.webm\", \"chase_pred_subt60_Grey_Posx_350.webm\", \"chase_pred_subt60_Grey_Posx_350_var0.webm\", \"chase_pred_subt60_Grey_Posx_350_var1.webm\", \"chase_pred_subt60_Grey_Posx_850.webm\", \"chase_pred_subt60_Grey_Posx_850_var0.webm\", \"chase_pred_subt60_Grey_Posx_850_var1.webm\", \"chase_pred_subt90_Grey_Posx_350.webm\", \"chase_pred_subt90_Grey_Posx_350_var0.webm\", \"chase_pred_subt90_Grey_Posx_350_var1.webm\", \"chase_pred_subt90_Grey_Posx_850.webm\", \"chase_pred_subt90_Grey_Posx_850_var0.webm\", \"chase_pred_subt90_Grey_Posx_850_var1.webm\", \"chase_pred_subt120_Grey_Posx_350.webm\", \"chase_pred_subt120_Grey_Posx_350_var0.webm\", \"chase_pred_subt120_Grey_Posx_350_var1.webm\", \"chase_pred_subt120_Grey_Posx_850.webm\", \"chase_pred_subt120_Grey_Posx_850_var0.webm\", \"chase_pred_subt120_Grey_Posx_850_var1.webm\", \"chase_pred_subt150_Grey_Posx_350.webm\", \"chase_pred_subt150_Grey_Posx_350_var0.webm\", \"chase_pred_subt150_Grey_Posx_350_var1.webm\", \"chase_pred_subt150_Grey_Posx_850.webm\", \"chase_pred_subt150_Grey_Posx_850_var0.webm\", \"chase_pred_subt150_Grey_Posx_850_var1.webm\", \"mimic_flipped_pred_subt0_Black_Posx_350_InvisPreyLocInd_1.webm\", \"mimic_flipped_pred_subt0_Black_Posx_350_InvisPreyLocInd_2ed.webm\", \"mimic_flipped_pred_subt0_Black_Posx_350_InvisPreyLocInd_3ed.webm\", \"mimic_flipped_pred_subt0_Black_Posx_850_InvisPreyLocInd_4.webm\", \"mimic_flipped_pred_subt0_Black_Posx_850_InvisPreyLocInd_5.webm\", \"mimic_flipped_pred_subt0_Black_Posx_850_InvisPreyLocInd_6.webm\", \"mimic_flipped_pred_subt30_Black_Posx_350_InvisPreyLocInd_7.webm\", \"mimic_flipped_pred_subt30_Black_Posx_350_InvisPreyLocInd_8.webm\", \"mimic_flipped_pred_subt30_Black_Posx_350_InvisPreyLocInd_9.webm\", \"mimic_flipped_pred_subt30_Black_Posx_850_InvisPreyLocInd_10.webm\", \"mimic_flipped_pred_subt30_Black_Posx_850_InvisPreyLocInd_11.webm\", \"mimic_flipped_pred_subt30_Black_Posx_850_InvisPreyLocInd_12.webm\", \"mimic_flipped_pred_subt60_Black_Posx_350_InvisPreyLocInd_13.webm\", \"mimic_flipped_pred_subt60_Black_Posx_350_InvisPreyLocInd_14.webm\", \"mimic_flipped_pred_subt60_Black_Posx_350_InvisPreyLocInd_15.webm\", \"mimic_flipped_pred_subt60_Black_Posx_850_InvisPreyLocInd_16.webm\", \"mimic_flipped_pred_subt60_Black_Posx_850_InvisPreyLocInd_17.webm\", \"mimic_flipped_pred_subt60_Black_Posx_850_InvisPreyLocInd_18.webm\", \"mimic_flipped_pred_subt90_Black_Posx_350_InvisPreyLocInd_19.webm\", \"mimic_flipped_pred_subt90_Black_Posx_350_InvisPreyLocInd_20.webm\", \"mimic_flipped_pred_subt90_Black_Posx_350_InvisPreyLocInd_21.webm\", \"mimic_flipped_pred_subt90_Black_Posx_850_InvisPreyLocInd_22.webm\", \"mimic_flipped_pred_subt90_Black_Posx_850_InvisPreyLocInd_23.webm\", \"mimic_flipped_pred_subt90_Black_Posx_850_InvisPreyLocInd_24.webm\", \"mimic_flipped_pred_subt120_Black_Posx_350_InvisPreyLocInd_25.webm\", \"mimic_flipped_pred_subt120_Black_Posx_350_InvisPreyLocInd_26.webm\", \"mimic_flipped_pred_subt120_Black_Posx_350_InvisPreyLocInd_27.webm\", \"mimic_flipped_pred_subt120_Black_Posx_850_InvisPreyLocInd_28.webm\", \"mimic_flipped_pred_subt120_Black_Posx_850_InvisPreyLocInd_29.webm\", \"mimic_flipped_pred_subt120_Black_Posx_850_InvisPreyLocInd_30.webm\", \"mimic_flipped_pred_subt150_Black_Posx_350_InvisPreyLocInd_31.webm\", \"mimic_flipped_pred_subt150_Black_Posx_350_InvisPreyLocInd_32.webm\", \"mimic_flipped_pred_subt150_Black_Posx_350_InvisPreyLocInd_33.webm\", \"mimic_flipped_pred_subt150_Black_Posx_850_InvisPreyLocInd_34.webm\", \"mimic_flipped_pred_subt150_Black_Posx_850_InvisPreyLocInd_35.webm\", \"mimic_flipped_pred_subt150_Black_Posx_850_InvisPreyLocInd_36.webm\", \"mimic_flipped_pred_subt0_Grey_Posx_350_InvisPreyLocInd_36.webm\", \"mimic_flipped_pred_subt0_Grey_Posx_350_InvisPreyLocInd_37.webm\", \"mimic_flipped_pred_subt0_Grey_Posx_350_InvisPreyLocInd_38.webm\", \"mimic_flipped_pred_subt0_Grey_Posx_850_InvisPreyLocInd_39.webm\", \"mimic_flipped_pred_subt0_Grey_Posx_850_InvisPreyLocInd_40ed.webm\", \"mimic_flipped_pred_subt0_Grey_Posx_850_InvisPreyLocInd_41.webm\", \"mimic_flipped_pred_subt30_Grey_Posx_350_InvisPreyLocInd_42.webm\", \"mimic_flipped_pred_subt30_Grey_Posx_350_InvisPreyLocInd_43.webm\", \"mimic_flipped_pred_subt30_Grey_Posx_350_InvisPreyLocInd_44.webm\", \"mimic_flipped_pred_subt30_Grey_Posx_850_InvisPreyLocInd_45.webm\", \"mimic_flipped_pred_subt30_Grey_Posx_850_InvisPreyLocInd_46.webm\", \"mimic_flipped_pred_subt30_Grey_Posx_850_InvisPreyLocInd_47.webm\", \"mimic_flipped_pred_subt60_Grey_Posx_350_InvisPreyLocInd_48.webm\", \"mimic_flipped_pred_subt60_Grey_Posx_350_InvisPreyLocInd_49.webm\", \"mimic_flipped_pred_subt60_Grey_Posx_350_InvisPreyLocInd_50.webm\", \"mimic_flipped_pred_subt60_Grey_Posx_850_InvisPreyLocInd_51.webm\", \"mimic_flipped_pred_subt60_Grey_Posx_850_InvisPreyLocInd_52.webm\", \"mimic_flipped_pred_subt60_Grey_Posx_850_InvisPreyLocInd_53.webm\", \"mimic_flipped_pred_subt90_Grey_Posx_350_InvisPreyLocInd_54.webm\", \"mimic_flipped_pred_subt90_Grey_Posx_350_InvisPreyLocInd_55.webm\", \"mimic_flipped_pred_subt90_Grey_Posx_350_InvisPreyLocInd_56.webm\", \"mimic_flipped_pred_subt90_Grey_Posx_850_InvisPreyLocInd_57.webm\", \"mimic_flipped_pred_subt90_Grey_Posx_850_InvisPreyLocInd_58.webm\", \"mimic_flipped_pred_subt90_Grey_Posx_850_InvisPreyLocInd_59.webm\", \"mimic_flipped_pred_subt120_Grey_Posx_350_InvisPreyLocInd_60.webm\", \"mimic_flipped_pred_subt120_Grey_Posx_350_InvisPreyLocInd_61.webm\", \"mimic_flipped_pred_subt120_Grey_Posx_350_InvisPreyLocInd_62.webm\", \"mimic_flipped_pred_subt120_Grey_Posx_850_InvisPreyLocInd_63.webm\", \"mimic_flipped_pred_subt120_Grey_Posx_850_InvisPreyLocInd_64.webm\", \"mimic_flipped_pred_subt120_Grey_Posx_850_InvisPreyLocInd_65.webm\", \"mimic_flipped_pred_subt150_Grey_Posx_350_InvisPreyLocInd_66.webm\", \"mimic_flipped_pred_subt150_Grey_Posx_350_InvisPreyLocInd_67.webm\", \"mimic_flipped_pred_subt150_Grey_Posx_350_InvisPreyLocInd_68.webm\", \"mimic_flipped_pred_subt150_Grey_Posx_850_InvisPreyLocInd_69.webm\", \"mimic_flipped_pred_subt150_Grey_Posx_850_InvisPreyLocInd_70.webm\", \"mimic_flipped_pred_subt150_Grey_Posx_850_InvisPreyLocInd_71.webm\", \"wander_pred_Black_Posx_350_var0.webm\", \"wander_pred_Black_Posx_350_var1.webm\", \"wander_pred_Black_Posx_350_var2.webm\", \"wander_pred_Black_Posx_350_var3.webm\", \"wander_pred_Black_Posx_350_var4.webm\", \"wander_pred_Black_Posx_350_var5.webm\", \"wander_pred_Black_Posx_850_var0.webm\", \"wander_pred_Black_Posx_850_var1.webm\", \"wander_pred_Black_Posx_850_var2.webm\", \"wander_pred_Black_Posx_850_var3.webm\", \"wander_pred_Black_Posx_850_var4.webm\", \"wander_pred_Black_Posx_850_var5.webm\", \"wander_pred_Grey_Posx_350_var0.webm\", \"wander_pred_Grey_Posx_350_var1.webm\", \"wander_pred_Grey_Posx_350_var2.webm\", \"wander_pred_Grey_Posx_350_var3.webm\", \"wander_pred_Grey_Posx_350_var4.webm\", \"wander_pred_Grey_Posx_350_var5.webm\", \"wander_pred_Grey_Posx_850_var0.webm\", \"wander_pred_Grey_Posx_850_var1.webm\", \"wander_pred_Grey_Posx_850_var2.webm\", \"wander_pred_Grey_Posx_850_var3.webm\", \"wander_pred_Grey_Posx_850_var4.webm\", \"wander_pred_Grey_Posx_850_var5.webm\"], \"Iter_nr\": [\"v0\", \"v1\", \"v2\", \"v0\", \"v1\", \"v2\", \"v0\", \"v1\", \"v2\", \"v0\", \"v1\", \"v2\", \"v0\", \"v1\", \"v2\", \"v0\", \"v1\", \"v2\", \"v0\", \"v1\", \"v2\", \"v0\", \"v1\", \"v2\", \"v0\", \"v1\", \"v2\", \"v0\", \"v1\", \"v2\", \"v0\", \"v1\", \"v2\", \"v0\", \"v1\", \"v2\", \"v0\", \"v1\", \"v2\", \"v0\", \"v1\", \"v2\", \"v0\", \"v1\", \"v2\", \"v0\", \"v1\", \"v2\", \"v0\", \"v1\", \"v2\", \"v0\", \"v1\", \"v2\", \"v0\", \"v1\", \"v2\", \"v0\", \"v1\", \"v2\", \"v0\", \"v1\", \"v2\", \"v0\", \"v1\", \"v2\", \"v0\", \"v1\", \"v2\", \"v0\", \"v1\", \"v2\", \"v0\", \"v1\", \"v2\", \"v0\", \"v1\", \"v2\", \"v0\", \"v1\", \"v2\", \"v0\", \"v1\", \"v2\", \"v0\", \"v1\", \"v2\", \"v0\", \"v1\", \"v2\", \"v0\", \"v1\", \"v2\", \"v0\", \"v1\", \"v2\", \"v0\", \"v1\", \"v2\", \"v0\", \"v1\", \"v2\", \"v0\", \"v1\", \"v2\", \"v0\", \"v1\", \"v2\", \"v0\", \"v1\", \"v2\", \"v0\", \"v1\", \"v2\", \"v0\", \"v1\", \"v2\", \"v0\", \"v1\", \"v2\", \"v0\", \"v1\", \"v2\", \"v0\", \"v1\", \"v2\", \"v0\", \"v1\", \"v2\", \"v0\", \"v1\", \"v2\", \"v0\", \"v1\", \"v2\", \"v0\", \"v1\", \"v2\", \"v0\", \"v1\", \"v2\", \"v0\", \"v1\", \"v2\", \"v0\", \"v1\", \"v2\", \"v3\", \"v4\", \"v5\", \"v0\", \"v1\", \"v2\", \"v3\", \"v4\", \"v5\", \"v0\", \"v1\", \"v2\", \"v3\", \"v4\", \"v5\", \"v0\", \"v1\", \"v2\", \"v3\", \"v4\", \"v5\"], \"ID\": [\"0_Bl_L_Chase_v0\", \"0_Bl_L_Chase_v1\", \"0_Bl_L_Chase_v2\", \"0_Bl_R_Chase_v0\", \"0_Bl_R_Chase_v1\", \"0_Bl_R_Chase_v2\", \"30_Bl_L_Chase_v0\", \"30_Bl_L_Chase_v1\", \"30_Bl_L_Chase_v2\", \"30_Bl_R_Chase_v0\", \"30_Bl_R_Chase_v1\", \"30_Bl_R_Chase_v2\", \"60_Bl_L_Chase_v0\", \"60_Bl_L_Chase_v1\", \"60_Bl_L_Chase_v2\", \"60_Bl_R_Chase_v0\", \"60_Bl_R_Chase_v1\", \"60_Bl_R_Chase_v2\", \"90_Bl_L_Chase_v0\", \"90_Bl_L_Chase_v1\", \"90_Bl_L_Chase_v2\", \"90_Bl_R_Chase_v0\", \"90_Bl_R_Chase_v1\", \"90_Bl_R_Chase_v2\", \"120_Bl_L_Chase_v0\", \"120_Bl_L_Chase_v1\", \"120_Bl_L_Chase_v2\", \"120_Bl_R_Chase_v0\", \"120_Bl_R_Chase_v1\", \"120_Bl_R_Chase_v2\", \"150_Bl_L_Chase_v0\", \"150_Bl_L_Chase_v1\", \"150_Bl_L_Chase_v2\", \"150_Bl_R_Chase_v0\", \"150_Bl_R_Chase_v1\", \"150_Bl_R_Chase_v2\", \"0_Gr_L_Chase_v0\", \"0_Gr_L_Chase_v1\", \"0_Gr_L_Chase_v2\", \"0_Gr_R_Chase_v0\", \"0_Gr_R_Chase_v1\", \"0_Gr_R_Chase_v2\", \"30_Gr_L_Chase_v0\", \"30_Gr_L_Chase_v1\", \"30_Gr_L_Chase_v2\", \"30_Gr_R_Chase_v0\", \"30_Gr_R_Chase_v1\", \"30_Gr_R_Chase_v2\", \"60_Gr_L_Chase_v0\", \"60_Gr_L_Chase_v1\", \"60_Gr_L_Chase_v2\", \"60_Gr_R_Chase_v0\", \"60_Gr_R_Chase_v1\", \"60_Gr_R_Chase_v2\", \"90_Gr_L_Chase_v0\", \"90_Gr_L_Chase_v1\", \"90_Gr_L_Chase_v2\", \"90_Gr_R_Chase_v0\", \"90_Gr_R_Chase_v1\", \"90_Gr_R_Chase_v2\", \"120_Gr_L_Chase_v0\", \"120_Gr_L_Chase_v1\", \"120_Gr_L_Chase_v2\", \"120_Gr_R_Chase_v0\", \"120_Gr_R_Chase_v1\", \"120_Gr_R_Chase_v2\", \"150_Gr_L_Chase_v0\", \"150_Gr_L_Chase_v1\", \"150_Gr_L_Chase_v2\", \"150_Gr_R_Chase_v0\", \"150_Gr_R_Chase_v1\", \"150_Gr_R_Chase_v2\", \"0_Bl_L_Mimic_v0\", \"0_Bl_L_Mimic_v1\", \"0_Bl_L_Mimic_v2\", \"0_Bl_R_Mimic_v0\", \"0_Bl_R_Mimic_v1\", \"0_Bl_R_Mimic_v2\", \"30_Bl_L_Mimic_v0\", \"30_Bl_L_Mimic_v1\", \"30_Bl_L_Mimic_v2\", \"30_Bl_R_Mimic_v0\", \"30_Bl_R_Mimic_v1\", \"30_Bl_R_Mimic_v2\", \"60_Bl_L_Mimic_v0\", \"60_Bl_L_Mimic_v1\", \"60_Bl_L_Mimic_v2\", \"60_Bl_R_Mimic_v0\", \"60_Bl_R_Mimic_v1\", \"60_Bl_R_Mimic_v2\", \"90_Bl_L_Mimic_v0\", \"90_Bl_L_Mimic_v1\", \"90_Bl_L_Mimic_v2\", \"90_Bl_R_Mimic_v0\", \"90_Bl_R_Mimic_v1\", \"90_Bl_R_Mimic_v2\", \"120_Bl_L_Mimic_v0\", \"120_Bl_L_Mimic_v1\", \"120_Bl_L_Mimic_v2\", \"120_Bl_R_Mimic_v0\", \"120_Bl_R_Mimic_v1\", \"120_Bl_R_Mimic_v2\", \"150_Bl_L_Mimic_v0\", \"150_Bl_L_Mimic_v1\", \"150_Bl_L_Mimic_v2\", \"150_Bl_R_Mimic_v0\", \"150_Bl_R_Mimic_v1\", \"150_Bl_R_Mimic_v2\", \"0_Gr_L_Mimic_v0\", \"0_Gr_L_Mimic_v1\", \"0_Gr_L_Mimic_v2\", \"0_Gr_R_Mimic_v0\", \"0_Gr_R_Mimic_v1\", \"0_Gr_R_Mimic_v2\", \"30_Gr_L_Mimic_v0\", \"30_Gr_L_Mimic_v1\", \"30_Gr_L_Mimic_v2\", \"30_Gr_R_Mimic_v0\", \"30_Gr_R_Mimic_v1\", \"30_Gr_R_Mimic_v2\", \"60_Gr_L_Mimic_v0\", \"60_Gr_L_Mimic_v1\", \"60_Gr_L_Mimic_v2\", \"60_Gr_R_Mimic_v0\", \"60_Gr_R_Mimic_v1\", \"60_Gr_R_Mimic_v2\", \"90_Gr_L_Mimic_v0\", \"90_Gr_L_Mimic_v1\", \"90_Gr_L_Mimic_v2\", \"90_Gr_R_Mimic_v0\", \"90_Gr_R_Mimic_v1\", \"90_Gr_R_Mimic_v2\", \"120_Gr_L_Mimic_v0\", \"120_Gr_L_Mimic_v1\", \"120_Gr_L_Mimic_v2\", \"120_Gr_R_Mimic_v0\", \"120_Gr_R_Mimic_v1\", \"120_Gr_R_Mimic_v2\", \"150_Gr_L_Mimic_v0\", \"150_Gr_L_Mimic_v1\", \"150_Gr_L_Mimic_v2\", \"150_Gr_R_Mimic_v0\", \"150_Gr_R_Mimic_v1\", \"150_Gr_R_Mimic_v2\", \"180_Bl_L_Wander_v0\", \"180_Bl_L_Wander_v1\", \"180_Bl_L_Wander_v2\", \"180_Bl_L_Wander_v3\", \"180_Bl_L_Wander_v4\", \"180_Bl_L_Wander_v5\", \"180_Bl_R_Wander_v0\", \"180_Bl_R_Wander_v1\", \"180_Bl_R_Wander_v2\", \"180_Bl_R_Wander_v3\", \"180_Bl_R_Wander_v4\", \"180_Bl_R_Wander_v5\", \"180_Gr_L_Wander_v0\", \"180_Gr_L_Wander_v1\", \"180_Gr_L_Wander_v2\", \"180_Gr_L_Wander_v3\", \"180_Gr_L_Wander_v4\", \"180_Gr_L_Wander_v5\", \"180_Gr_R_Wander_v0\", \"180_Gr_R_Wander_v1\", \"180_Gr_R_Wander_v2\", \"180_Gr_R_Wander_v3\", \"180_Gr_R_Wander_v4\", \"180_Gr_R_Wander_v5\"]}\n"
     ]
    }
   ],
   "metadata": {}
  },
  {
   "cell_type": "code",
   "execution_count": null,
   "source": [],
   "outputs": [],
   "metadata": {}
  },
  {
   "cell_type": "markdown",
   "source": [
    "# extra code"
   ],
   "metadata": {}
  },
  {
   "cell_type": "code",
   "execution_count": null,
   "source": [
    "# mimic\n",
    "pos = {'L':'350','R':'850'}\n",
    "\n",
    "for i in range(24): # 24 unique mimic vid params (except initpos)\n",
    "#for i in np.arange(72,144):\n",
    "    if vid_iter_nr[i] == 'v0':\n",
    "        pref ='mimic_flipped_'\n",
    "    else:\n",
    "        pref = 'mimic_flipped_'\n",
    "    vidnumsuff = '_' #_ind*' # to do!!\n",
    "    # chase_pred_subt0_Colorg_Posx350, \n",
    "    # chase__pred_subt0_Colorb_Posx350_2\n",
    "\n",
    "    #flname = pref + 'pred_subt' + str(agent_subtlety[i]) + '_' + agent_color_name[agent_color[i]] + '_Posx_' + pos[agent_startpos[i]] + vidnumsuff + '.webm'\n",
    "    flname = pref + 'pred_subt' + str(agent_subtlety[i]) + '_' + agent_color_name[agent_color[i]] + '_Posx_' + pos[agent_startpos[i]]\n",
    "\n",
    "    if i%3 == 0:\n",
    "        #flist = []\n",
    "        for f in existing_mimic_files:\n",
    "            if flname == '_'.join(f.split('_')[:-2]):\n",
    "                #flist.append(f) # 3 files\n",
    "                vidNames.append(f)\n",
    "    #vidNames.append(flist[i%3])\n",
    "print(vidNames[71:73])\n",
    "\n",
    "\n",
    "'''#new_filenames = []\n",
    "inds = []\n",
    "for vid in vidNames:\n",
    "    if 'mimic' in str.lower(vid):\n",
    "        #print(vid[:-5])\n",
    "        vid_filename = vid.split('.')[0][:-1]\n",
    "        for f in created_mimic_files:\n",
    "            if vid_filename == '_'.join(f.split('_')[:-2]):\n",
    "                inds.append([f.split('.')[0].split('_')[-1] for f in created_mimic_files])#(vid.split('.')[0][-1])\n",
    "                #new_filenames.append(f)\n",
    "#new_filenames[:5],len(new_filenames)\n",
    "inds'''"
   ],
   "outputs": [],
   "metadata": {}
  }
 ],
 "metadata": {
  "orig_nbformat": 4,
  "language_info": {
   "name": "python",
   "version": "3.7.11",
   "mimetype": "text/x-python",
   "codemirror_mode": {
    "name": "ipython",
    "version": 3
   },
   "pygments_lexer": "ipython3",
   "nbconvert_exporter": "python",
   "file_extension": ".py"
  },
  "kernelspec": {
   "name": "python3",
   "display_name": "Python 3.7.11 64-bit ('py37': conda)"
  },
  "interpreter": {
   "hash": "30fd9c97283ec1278eec212a8f8afab06ad903f38228c32cacb469eba8e56f4f"
  }
 },
 "nbformat": 4,
 "nbformat_minor": 2
}